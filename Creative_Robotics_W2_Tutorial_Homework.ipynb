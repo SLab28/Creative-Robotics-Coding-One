{
  "nbformat": 4,
  "nbformat_minor": 0,
  "metadata": {
    "colab": {
      "provenance": []
    },
    "kernelspec": {
      "name": "python3",
      "display_name": "Python 3"
    },
    "language_info": {
      "name": "python"
    }
  },
  "cells": [
    {
      "cell_type": "markdown",
      "source": [
        "**Variables**\n",
        "\n",
        "A variable is just a container for a value within your own program.\n",
        "In your program, you can introduce your own variable in your program by editing it to read"
      ],
      "metadata": {
        "id": "A3ODBEptmP9l"
      }
    },
    {
      "cell_type": "code",
      "source": [
        "name = input(\"What's your name? \")\n",
        "print(\"hello, world\")"
      ],
      "metadata": {
        "id": "_2g5MP_KmUL0",
        "colab": {
          "base_uri": "https://localhost:8080/"
        },
        "outputId": "6b4e3af9-461e-43fe-95a1-d0f3e2edac0b"
      },
      "execution_count": null,
      "outputs": [
        {
          "output_type": "stream",
          "name": "stdout",
          "text": [
            "What's your name? Sonia\n",
            "hello, world\n"
          ]
        }
      ]
    },
    {
      "cell_type": "code",
      "source": [
        "name = input(\"What's your name? \")\n",
        "print(\"hello, name\")"
      ],
      "metadata": {
        "id": "bdpjMmkFmml8",
        "colab": {
          "base_uri": "https://localhost:8080/"
        },
        "outputId": "5996e7e0-1e31-4a1f-bc8f-ddd1dd84d6b5"
      },
      "execution_count": null,
      "outputs": [
        {
          "output_type": "stream",
          "name": "stdout",
          "text": [
            "What's your name? Sonia\n",
            "hello, name\n"
          ]
        }
      ]
    },
    {
      "cell_type": "code",
      "source": [
        "name = input(\"What's your name? \")\n",
        "print(\"hello,\")\n",
        "print(name)"
      ],
      "metadata": {
        "id": "vosmFgUHmqFb",
        "colab": {
          "base_uri": "https://localhost:8080/"
        },
        "outputId": "a197a361-c07f-41c6-a03d-72a2bf5a31e4"
      },
      "execution_count": null,
      "outputs": [
        {
          "output_type": "stream",
          "name": "stdout",
          "text": [
            "What's your name? Sonia\n",
            "hello,\n",
            "Sonia\n"
          ]
        }
      ]
    },
    {
      "cell_type": "code",
      "source": [
        "# Ask the user for their name\n",
        "name = input(\"What's your name? \")\n",
        "\n",
        "# Print hello and the inputted name\n",
        "print(\"hello, \" + name)"
      ],
      "metadata": {
        "colab": {
          "base_uri": "https://localhost:8080/"
        },
        "id": "2z3I_wFEMBBS",
        "outputId": "1962aa39-48ab-4f87-b0b7-ecc24ea3aed3"
      },
      "execution_count": null,
      "outputs": [
        {
          "output_type": "stream",
          "name": "stdout",
          "text": [
            "What's your name? Sonia\n",
            "hello, Sonia\n"
          ]
        }
      ]
    },
    {
      "cell_type": "code",
      "source": [
        "# Ask the user for their name\n",
        "name = input(\"What's your name? \")\n",
        "\n",
        "# Print hello and the inputted name\n",
        "print(\"hello,\", name)"
      ],
      "metadata": {
        "colab": {
          "base_uri": "https://localhost:8080/"
        },
        "id": "Lt0HbwaJMKmb",
        "outputId": "10609f09-bc4c-4d8a-c30a-319583e47915"
      },
      "execution_count": null,
      "outputs": [
        {
          "output_type": "stream",
          "name": "stdout",
          "text": [
            "What's your name? Sonia\n",
            "hello, Sonia\n"
          ]
        }
      ]
    },
    {
      "cell_type": "markdown",
      "source": [
        "**Comments**\n",
        "\n",
        "Comments are a way for programmers to track what they are doing in their programs and even inform others about their intentions for a block of code. In short, they are notes for yourself and others who will see your code!"
      ],
      "metadata": {
        "id": "CsZVEgO2mx8K"
      }
    },
    {
      "cell_type": "code",
      "source": [
        "# Ask the user for their name\n",
        "name = input(\"What's your name? \")\n",
        "print(\"hello,\")\n",
        "print(name)"
      ],
      "metadata": {
        "id": "_GAXHt3vLrYm"
      },
      "execution_count": null,
      "outputs": []
    },
    {
      "cell_type": "markdown",
      "source": [
        "**Pseudocode**\n",
        "\n",
        "Pseudocode is an important type of comment that becomes a special type of to-do list, especially when you don’t understand how to accomplish a coding task. For example, in your code, you might edit your code to say:"
      ],
      "metadata": {
        "id": "7aKh7rH-LwCH"
      }
    },
    {
      "cell_type": "code",
      "source": [
        "# Ask the user for their name\n",
        "\n",
        "\n",
        "# Print hello\n",
        "\n",
        "\n",
        "# Print the name inputted\n"
      ],
      "metadata": {
        "id": "G8x0gO7fL3Kj"
      },
      "execution_count": null,
      "outputs": []
    },
    {
      "cell_type": "markdown",
      "source": [
        "**Edge cases & Escaping characters**"
      ],
      "metadata": {
        "id": "EEBm8izzU8HJ"
      }
    },
    {
      "cell_type": "code",
      "source": [
        "# String with both single and double quotes using escape sequences\n",
        "mixed_quotes = \"It\\'s a string with both \\'single\\' and \\\"double\\\" quotes.\"\n",
        "print(f\"Mixed Quotes (with escaping): {mixed_quotes}\")"
      ],
      "metadata": {
        "colab": {
          "base_uri": "https://localhost:8080/"
        },
        "id": "T_d3TVq0Uowu",
        "outputId": "037d7749-92bd-4441-84b3-25b357f4a07e"
      },
      "execution_count": null,
      "outputs": [
        {
          "output_type": "stream",
          "name": "stdout",
          "text": [
            "Mixed Quotes (with escaping): It's a string with both 'single' and \"double\" quotes.\n"
          ]
        }
      ]
    },
    {
      "cell_type": "code",
      "source": [
        "# Escaping backslashes\n",
        "escaped_backslash = \"This is how you use a backslash \\\\ in a string.\"\n",
        "print(f\"Escaped Backslash: {escaped_backslash}\")"
      ],
      "metadata": {
        "colab": {
          "base_uri": "https://localhost:8080/"
        },
        "id": "MqS1K7b-U6LD",
        "outputId": "d1ef54a4-62ef-4764-a63a-cfc4441c6e66"
      },
      "execution_count": null,
      "outputs": [
        {
          "output_type": "stream",
          "name": "stdout",
          "text": [
            "Escaped Backslash: This is how you use a backslash \\ in a string.\n"
          ]
        }
      ]
    },
    {
      "cell_type": "code",
      "source": [
        "# Ask for input from the user\n",
        "user_input = input(\"Please enter a number: \")\n",
        "# Try converting the input to an integer for a calculation\n",
        "try:\n",
        "  #user_input_as_number = int(user_input)\n",
        "  #result = user_input_as_number * 2\n",
        "  result = user_input * 2\n",
        "  print(f\"Converted Input to Integer: {user_input_as_number}\")\n",
        "  print(f\"Result of Calculation (Input * 2): {result}\")\n",
        "except ValueError:\n",
        "  print(f\"Error: '{user_input}' is not a valid number.\")"
      ],
      "metadata": {
        "colab": {
          "base_uri": "https://localhost:8080/"
        },
        "id": "GGvNKmePVnR6",
        "outputId": "af298393-4e45-4014-accc-f0d3541f2e8e"
      },
      "execution_count": null,
      "outputs": [
        {
          "output_type": "stream",
          "name": "stdout",
          "text": [
            "Please enter a number: 23\n",
            "Converted Input to Integer: 23\n",
            "Result of Calculation (Input * 2): 2323\n"
          ]
        }
      ]
    },
    {
      "cell_type": "markdown",
      "source": [
        "**Python Build in Functions**\n",
        "https://docs.python.org/3/library/functions.html"
      ],
      "metadata": {
        "id": "_HDt2CYNYzvY"
      }
    },
    {
      "cell_type": "code",
      "source": [
        "# Edge case: User input with various scenarios and converting to a number for calculation\n",
        "\n",
        "def handle_user_input():\n",
        "    # Ask for input from the user\n",
        "    user_input = input(\"Please enter a number: \").strip()  # strip whitespace from input\n",
        "\n",
        "    # Check for empty input\n",
        "    if not user_input:\n",
        "        print(\"Error: Input cannot be empty.\")\n",
        "        return\n",
        "\n",
        "    # Try to convert the input to a number (either integer or float)\n",
        "    try:\n",
        "        # First, try converting to integer\n",
        "        if '.' in user_input:\n",
        "            user_input_as_number = float(user_input)  # handle floats\n",
        "        else:\n",
        "            user_input_as_number = int(user_input)  # handle integers\n",
        "\n",
        "        # Perform a simple calculation for demonstration\n",
        "        result = user_input_as_number * 2\n",
        "        print(f\"Converted Input to Number: {user_input_as_number}\")\n",
        "        print(f\"Result of Calculation (Input * 2): {result}\")\n",
        "\n",
        "    except ValueError:\n",
        "        # Handle the case where input is not a valid number\n",
        "        print(f\"Error: '{user_input}' is not a valid number.\")\n",
        "\n",
        "    # Check for negative numbers\n",
        "    if user_input_as_number < 0:\n",
        "        print(f\"Warning: You entered a negative number ({user_input_as_number}).\")\n",
        "\n",
        "    # Check for large numbers\n",
        "    if user_input_as_number > 1e12:\n",
        "        print(f\"Warning: The number you entered is very large ({user_input_as_number}).\")\n",
        "\n",
        "# Call the function to run the example\n",
        "handle_user_input()"
      ],
      "metadata": {
        "colab": {
          "base_uri": "https://localhost:8080/"
        },
        "id": "Jir9RxmvYNm6",
        "outputId": "1767c44d-5613-4edd-f546-19820c80b891"
      },
      "execution_count": null,
      "outputs": [
        {
          "output_type": "stream",
          "name": "stdout",
          "text": [
            "Please enter a number: 23.3\n",
            "Converted Input to Number: 23.3\n",
            "Result of Calculation (Input * 2): 46.6\n"
          ]
        }
      ]
    },
    {
      "cell_type": "markdown",
      "source": [
        "The strip() **method** in Python is used to remove any leading (spaces before the text) and trailing (spaces after the text) whitespace characters from a string. This includes spaces, tabs (\\t), newlines (\\n), and other similar characters.\n",
        "\n",
        "Why is strip() used in the script?\n",
        "When users input data, they might accidentally add extra spaces before or after their input. For example:\n",
        "\n",
        "\" 42 \" (with spaces around the number)\n",
        "\"\\t100\\n\" (with tabs or newlines)\n",
        "If you don't handle these spaces, Python might treat the input as invalid when trying to convert it to a number. The strip() method ensures that any unnecessary whitespace is removed before processing the input.\n",
        "\n",
        "In Python, a **method** is essentially a function that is associated with an object. The key difference between a **function** and a **method** is that a method is called on an object, and it usually operates on the data contained within that object."
      ],
      "metadata": {
        "id": "CB7nbw7RZE1J"
      }
    },
    {
      "cell_type": "markdown",
      "source": [
        "\n",
        "\n",
        "# Homework\n",
        "**Theory**\n",
        "\n",
        "Read about Python Build in Functions https://docs.python.org/3/library/functions.html\n",
        "\n",
        "And the arithmetic operations https://www.geeksforgeeks.org/python-arithmetic-operators/\n",
        "\n",
        "**Practice**\n",
        "\n",
        "*Instructions:*\n",
        "\n",
        "Create a List of Colors:\n",
        "\n",
        "Create a list called colors containing the following color names as strings: 'red', 'green', 'blue', 'yellow', 'purple'.\n",
        "\n",
        "String Manipulation:\n",
        "\n",
        "Create a new list called uppercase_colors where each color name from the colors list is converted to uppercase letters.\n",
        "\n",
        "Arithmetic with String Lengths:\n",
        "\n",
        "Calculate the length (number of characters) of each color name in the colors list.\n",
        "Store these lengths in a list called color_lengths.\n",
        "Calculate the total number of characters in all the color names combined.\n",
        "Calculate the average length of the color names.\n",
        "\n",
        "Concatenate Strings:\n",
        "\n",
        "Create a single string called color_sentence that concatenates all the color names from the colors list into a sentence, separated by spaces.\n",
        "Example: \"red green blue yellow purple\"\n",
        "\n",
        "Repeat Strings Using Arithmetic:\n",
        "\n",
        "For each color name in the colors list, create a new string that repeats the color name as many times as the number of characters in that color name.\n",
        "For example, 'red' has 3 characters, so it should be repeated 3 times: 'redredred'.\n",
        "Store these new strings in a list called repeated_colors.\n",
        "\n",
        "Print Results:\n",
        "\n",
        "Print all the lists and calculated values with descriptive messages so the output is easy to understand."
      ],
      "metadata": {
        "id": "ZIfW77vOf6aE"
      }
    },
    {
      "cell_type": "code",
      "source": [
        "#Pseudocode\n",
        "# Step 1: Create a list of colors\n",
        "\n",
        "\n",
        "# Step 2: Convert color names to uppercase\n",
        "\n",
        "\n",
        "# Step 3: Calculate lengths and arithmetic\n",
        "\n",
        "\n",
        "# Step 4: Concatenate color names into a sentence\n",
        "\n",
        "\n",
        "# Step 5: Repeat color names using arithmetic\n",
        "\n",
        "\n",
        "# Step 6: Print the results\n",
        "print(\"Original colors list:\", colors)\n",
        "print(\"Uppercase colors list:\", uppercase_colors)\n",
        "print(\"Lengths of color names:\", color_lengths)\n",
        "print(\"Total number of characters:\", total_length)\n",
        "print(\"Average length of color names:\", average_length)\n",
        "print(\"Color sentence:\", color_sentence)\n",
        "print(\"Repeated colors list:\", repeated_colors)\n"
      ],
      "metadata": {
        "colab": {
          "base_uri": "https://localhost:8080/"
        },
        "id": "c36mdTnvf7dO",
        "outputId": "d0d394fa-ac8a-4228-bd95-69c351f4ff8d"
      },
      "execution_count": null,
      "outputs": [
        {
          "output_type": "stream",
          "name": "stdout",
          "text": [
            "Original colors list: ['red', 'green', 'blue', 'yellow', 'purple']\n",
            "Uppercase colors list: ['RED', 'GREEN', 'BLUE', 'YELLOW', 'PURPLE']\n",
            "Lengths of color names: [3, 5, 4, 6, 6]\n",
            "Total number of characters: 24\n",
            "Average length of color names: 4.8\n",
            "Color sentence: red green blue yellow purple\n",
            "Repeated colors list: ['redredred', 'greengreengreengreengreen', 'blueblueblueblue', 'yellowyellowyellowyellowyellowyellow', 'purplepurplepurplepurplepurplepurple']\n"
          ]
        }
      ]
    }
  ]
}