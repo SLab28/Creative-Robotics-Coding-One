{
  "nbformat": 4,
  "nbformat_minor": 0,
  "metadata": {
    "colab": {
      "provenance": []
    },
    "kernelspec": {
      "name": "python3",
      "display_name": "Python 3"
    },
    "language_info": {
      "name": "python"
    }
  },
  "cells": [
    {
      "cell_type": "markdown",
      "source": [
        "#Conditionals Practice - Tutorial Exercises\n",
        "\n",
        "Exercise 1: Simple Decision Graph\n",
        "Task: Draw a decision graph for a conditional that checks if a number is positive, negative, or zero.\n",
        "Then, write the pseudocode and implement it in Python."
      ],
      "metadata": {
        "id": "qf-487uLeyaz"
      }
    },
    {
      "cell_type": "code",
      "source": [
        "# Pseudocode Template:\n",
        "# START\n",
        "#   Input: number\n",
        "#   IF number > 0\n",
        "#       PRINT \"Number is positive\"\n",
        "#   ELSE IF number < 0\n",
        "#       PRINT \"Number is negative\"\n",
        "#   ELSE\n",
        "#       PRINT \"Number is zero\"\n",
        "# END\n",
        "\n",
        "# Python Code Implementation\n",
        "\n",
        "\n"
      ],
      "metadata": {
        "id": "YyI31Qi3e-Rf"
      },
      "execution_count": null,
      "outputs": []
    },
    {
      "cell_type": "code",
      "source": [
        "# Test\n",
        "check_number(5)\n",
        "check_number(-3)\n",
        "check_number(0)"
      ],
      "metadata": {
        "id": "Mo2LZ4wjfCPV"
      },
      "execution_count": null,
      "outputs": []
    },
    {
      "cell_type": "markdown",
      "source": [
        "# Exercise 2: Even or Odd\n",
        "Task: Draw a decision graph for checking if a number is even or odd.\n",
        "Write the pseudocode and then implement the program in Python."
      ],
      "metadata": {
        "id": "xHF_FPut9-l2"
      }
    },
    {
      "cell_type": "code",
      "source": [
        "# Pseudocode Template:\n",
        "# START\n",
        "#   Input: number\n",
        "#   IF number % 2 == 0\n",
        "#       PRINT \"Number is even\"\n",
        "#   ELSE\n",
        "#       PRINT \"Number is odd\"\n",
        "# END\n",
        "\n",
        "\n",
        "# Python Code Implementation\n"
      ],
      "metadata": {
        "id": "4M_1NgZy-E6I"
      },
      "execution_count": null,
      "outputs": []
    },
    {
      "cell_type": "code",
      "source": [
        "# Test\n",
        "check_even_odd(4)\n",
        "check_even_odd(7)"
      ],
      "metadata": {
        "id": "-VLdJ6wU-Hcz"
      },
      "execution_count": null,
      "outputs": []
    },
    {
      "cell_type": "markdown",
      "source": [
        "# Exercise 3: Grade Categorization\n",
        "Task: Write a decision graph and pseudocode to categorize grades (A, B, C, D, F)."
      ],
      "metadata": {
        "id": "MQS9dgNq-Q46"
      }
    },
    {
      "cell_type": "code",
      "source": [
        "# Pseudocode Template:\n",
        "# START\n",
        "#   Input: score\n",
        "#   IF score >= 90\n",
        "#       PRINT \"Grade: A\"\n",
        "#   ELSE IF score >= 80\n",
        "#       PRINT \"Grade: B\"\n",
        "#   ELSE IF score >= 70\n",
        "#       PRINT \"Grade: C\"\n",
        "#   ELSE IF score >= 60\n",
        "#       PRINT \"Grade: D\"\n",
        "#   ELSE\n",
        "#       PRINT \"Grade: F\"\n",
        "# END\n",
        "\n",
        "# Python Code Implementation\n"
      ],
      "metadata": {
        "id": "qrMzcj77-UwT"
      },
      "execution_count": null,
      "outputs": []
    },
    {
      "cell_type": "code",
      "source": [
        "# Test\n",
        "categorize_grade(85)\n",
        "categorize_grade(95)\n",
        "categorize_grade(45)"
      ],
      "metadata": {
        "id": "-yXwTTDq-YN6"
      },
      "execution_count": null,
      "outputs": []
    },
    {
      "cell_type": "markdown",
      "source": [
        "\n",
        "# Exercise 4: Age Verification\n",
        "Task: Write a decision graph, pseudocode, and Python program to verify age for a driving license (18 or older)."
      ],
      "metadata": {
        "id": "ipMltgK8-ZVC"
      }
    },
    {
      "cell_type": "code",
      "source": [
        "# Pseudocode Template:\n",
        "# START\n",
        "#   Input: age\n",
        "#   IF age >= 18\n",
        "#       PRINT \"Eligible for driving license\"\n",
        "#   ELSE\n",
        "#       PRINT \"Not eligible for driving license\"\n",
        "# END\n",
        "\n",
        "# Python Code Implementation\n"
      ],
      "metadata": {
        "id": "-37ql4HI-iIy"
      },
      "execution_count": null,
      "outputs": []
    },
    {
      "cell_type": "code",
      "source": [
        "# Test\n",
        "verify_age(20)\n",
        "verify_age(15)"
      ],
      "metadata": {
        "id": "iv359ES3-mGP"
      },
      "execution_count": null,
      "outputs": []
    },
    {
      "cell_type": "markdown",
      "source": [
        "# Exercise 5: Maximum of Three Numbers\n",
        "Task: Write a decision graph and pseudocode to find the maximum of three numbers."
      ],
      "metadata": {
        "id": "o_yyeMhY-p8k"
      }
    },
    {
      "cell_type": "code",
      "source": [
        "# Pseudocode Template:\n",
        "\n",
        "# START\n",
        "#   Input: num1, num2, num3\n",
        "#   IF num1 >= num2 AND num1 >= num3\n",
        "#       PRINT \"num1 is maximum\"\n",
        "#   ELSE IF num2 >= num1 AND num2 >= num3\n",
        "#       PRINT \"num2 is maximum\"\n",
        "#   ELSE\n",
        "#       PRINT \"num3 is maximum\"\n",
        "# END\n",
        "\n",
        "# Python Code Implementation (Using built-in max function)\n"
      ],
      "metadata": {
        "id": "561ZcSgk-pDC"
      },
      "execution_count": null,
      "outputs": []
    },
    {
      "cell_type": "code",
      "source": [
        "# Python Code Implementation (Using conditionals)\n"
      ],
      "metadata": {
        "id": "GQ5x7Avz-xzK"
      },
      "execution_count": null,
      "outputs": []
    },
    {
      "cell_type": "code",
      "source": [
        "\n",
        "# Test\n",
        "find_maximum(3, 7, 5)\n",
        "find_maximum(10, 5, 10)\n",
        "find_maximum_conditional(3, 7, 5)\n",
        "find_maximum_conditional(10, 5, 10)"
      ],
      "metadata": {
        "id": "cflWdS7X-0V9"
      },
      "execution_count": null,
      "outputs": []
    },
    {
      "cell_type": "markdown",
      "source": [
        "# Exercise 6: Debug the Incorrect Code\n",
        "Task: Debug the following incorrect code that checks if a number is greater than 10."
      ],
      "metadata": {
        "id": "Zl40OqRq-1Fw"
      }
    },
    {
      "cell_type": "code",
      "source": [
        "# Incorrect Code:\n",
        " def check_greater_than_ten(number):\n",
        "     if number > 10\n",
        "        print(\"Number is greater than 10\")\n"
      ],
      "metadata": {
        "id": "5mVklOAJ_Aku"
      },
      "execution_count": null,
      "outputs": []
    },
    {
      "cell_type": "code",
      "source": [
        "# Python Code Implementation (Corrected)\n"
      ],
      "metadata": {
        "id": "bsJncsu9sIKF"
      },
      "execution_count": null,
      "outputs": []
    },
    {
      "cell_type": "code",
      "source": [
        "# Test\n",
        "check_greater_than_ten(15)\n",
        "check_greater_than_ten(5)"
      ],
      "metadata": {
        "id": "zRXSHko_sGHM"
      },
      "execution_count": null,
      "outputs": []
    },
    {
      "cell_type": "markdown",
      "source": [
        "\n",
        "# Exercise 7: Nested Conditionals\n",
        "Task: Create a function that checks if a number is positive, negative, or zero, and if it's even or odd."
      ],
      "metadata": {
        "id": "M3drlFeT_Bxu"
      }
    },
    {
      "cell_type": "code",
      "source": [
        "# Python Code Implementation\n",
        "\n",
        "\n"
      ],
      "metadata": {
        "id": "nDIg1Yb__I6T"
      },
      "execution_count": null,
      "outputs": []
    },
    {
      "cell_type": "code",
      "source": [
        "# Test\n",
        "check_number_details(6)\n",
        "check_number_details(-7)\n",
        "check_number_details(0)"
      ],
      "metadata": {
        "id": "V-tCGzexsEl6"
      },
      "execution_count": null,
      "outputs": []
    },
    {
      "cell_type": "markdown",
      "source": [
        "# Exercise 8: Login System\n",
        "Task: Create a simple login system that checks if the username and password are correct."
      ],
      "metadata": {
        "id": "1zFXlTmR_MfX"
      }
    },
    {
      "cell_type": "code",
      "source": [
        "# Python Code Implementation\n",
        "\n",
        "\n"
      ],
      "metadata": {
        "id": "zH6rsqUL_RA-"
      },
      "execution_count": null,
      "outputs": []
    },
    {
      "cell_type": "code",
      "source": [
        "# Test\n",
        "login_system(\"user1\", \"pass123\")\n",
        "login_system(\"user2\", \"pass123\")\n",
        "login_system(\"user1\", \"wrongpass\")"
      ],
      "metadata": {
        "id": "Bz8H00qGsDGg"
      },
      "execution_count": null,
      "outputs": []
    },
    {
      "cell_type": "markdown",
      "source": [
        "# Exercise 9: Grading System with Distinction\n",
        "Task: Modify the grade categorization to include \"Distinction\" for scores above 95."
      ],
      "metadata": {
        "id": "aLWH9BT6_UnI"
      }
    },
    {
      "cell_type": "code",
      "source": [
        "# Python Code Implementation\n",
        "\n",
        "\n"
      ],
      "metadata": {
        "id": "5GicbH2e_UH1"
      },
      "execution_count": null,
      "outputs": []
    },
    {
      "cell_type": "code",
      "source": [
        "# Test\n",
        "categorize_grade_with_distinction(97)\n",
        "categorize_grade_with_distinction(85)"
      ],
      "metadata": {
        "id": "8NCjJhp_sCL0"
      },
      "execution_count": null,
      "outputs": []
    },
    {
      "cell_type": "markdown",
      "source": [
        "# Exercise 10: Triangle Type Checker\n",
        "Task: Write a program that takes the lengths of three sides of a triangle and determines its type (equilateral, isosceles, scalene)."
      ],
      "metadata": {
        "id": "TzcENt5__Z2N"
      }
    },
    {
      "cell_type": "code",
      "source": [
        "# Python Code Implementation\n",
        "\n",
        "\n"
      ],
      "metadata": {
        "id": "tJzqoeKI_aZ1"
      },
      "execution_count": null,
      "outputs": []
    },
    {
      "cell_type": "code",
      "source": [
        "# Test\n",
        "triangle_type(3, 3, 3)\n",
        "triangle_type(3, 4, 3)\n",
        "triangle_type(3, 4, 5)\n",
        "triangle_type(1, 2, 3)"
      ],
      "metadata": {
        "id": "etG9_Kcur-i1"
      },
      "execution_count": null,
      "outputs": []
    },
    {
      "cell_type": "markdown",
      "source": [
        "# Exercise 11: Day of the Week\n",
        "Task: Assume the days of the week are numbered 0,1,2,3,4,5,6 from Sunday to Saturday.\n",
        " Write a function which is given the day number, and it returns the day name (a string)."
      ],
      "metadata": {
        "id": "cCn5_LKX_ixv"
      }
    },
    {
      "cell_type": "code",
      "source": [
        "# Python Code Implementation\n",
        "\n",
        "\n"
      ],
      "metadata": {
        "id": "Ut_vgL8n_i5H"
      },
      "execution_count": null,
      "outputs": []
    },
    {
      "cell_type": "code",
      "source": [
        "# Test\n",
        "print(day_of_week(0))  # Output: Sunday\n",
        "print(day_of_week(3))  # Output: Wednesday\n",
        "print(day_of_week(6))  # Output: Saturday\n",
        "print(day_of_week(7))  # Output: Invalid day number"
      ],
      "metadata": {
        "id": "R13QBBnkr5rd"
      },
      "execution_count": null,
      "outputs": []
    },
    {
      "cell_type": "markdown",
      "source": [
        "# Exercise 12: Robot Movement Direction\n",
        "Task: Write a function that determines the direction a robot should move based on user input.\n",
        "Inputs are 'N', 'S', 'E', 'W' for North, South, East, and West respectively. If an invalid direction is provided, return an error message."
      ],
      "metadata": {
        "id": "qNsrymOS_tor"
      }
    },
    {
      "cell_type": "code",
      "source": [
        "# Python Code Implementation\n",
        "\n",
        "\n"
      ],
      "metadata": {
        "id": "HY3WCjE-_xIZ"
      },
      "execution_count": null,
      "outputs": []
    },
    {
      "cell_type": "code",
      "source": [
        "# Test\n",
        "robot_direction('N')  # Output: Move North\n",
        "robot_direction('A')  # Output: Invalid direction"
      ],
      "metadata": {
        "id": "sbpXND9Nr059"
      },
      "execution_count": null,
      "outputs": []
    },
    {
      "cell_type": "markdown",
      "source": [
        "# Exercise 13: Robot Battery Level Checker\n",
        "Task: Write a function that takes in the battery percentage of a robot and prints whether it is sufficient to perform a task.\n",
        "If the battery level is 20% or below, print \"Low Battery - Please recharge\". Otherwise, print \"Battery level sufficient\"."
      ],
      "metadata": {
        "id": "d1YGmJEYriwr"
      }
    },
    {
      "cell_type": "code",
      "source": [
        "# Python Code Implementation\n",
        "\n",
        "\n"
      ],
      "metadata": {
        "id": "ukhCs1qXrh73"
      },
      "execution_count": null,
      "outputs": []
    },
    {
      "cell_type": "code",
      "source": [
        "# Test\n",
        "check_battery_level(15)  # Output: Low Battery - Please recharge\n",
        "check_battery_level(50)  # Output: Battery level sufficient"
      ],
      "metadata": {
        "id": "tcmbCKqsryI5"
      },
      "execution_count": null,
      "outputs": []
    },
    {
      "cell_type": "markdown",
      "source": [
        "# Exercise 14: Obstacle Detection\n",
        "Task: Write a function that takes a sensor reading (distance in cm) and determines if the robot needs to stop or proceed.\n",
        "If the distance is less than or equal to 10 cm, print \"Obstacle detected - Stop\".\n",
        "If the distance is between 10 and 30 cm, print \"Caution - Slow down\".\n",
        "Otherwise, print \"No obstacles - Proceed\".\n"
      ],
      "metadata": {
        "id": "C-RLN-I9rpo8"
      }
    },
    {
      "cell_type": "code",
      "source": [
        "# Python Code Implementation\n",
        "\n",
        "\n"
      ],
      "metadata": {
        "id": "a2MdAFOKepNw"
      },
      "execution_count": null,
      "outputs": []
    },
    {
      "cell_type": "code",
      "source": [
        "# Test\n",
        "obstacle_detection(5)   # Output: Obstacle detected - Stop\n",
        "obstacle_detection(20)  # Output: Caution - Slow down\n",
        "obstacle_detection(50)  # Output: No obstacles - Proceed"
      ],
      "metadata": {
        "id": "cHV8eGdPrwOs"
      },
      "execution_count": null,
      "outputs": []
    }
  ]
}