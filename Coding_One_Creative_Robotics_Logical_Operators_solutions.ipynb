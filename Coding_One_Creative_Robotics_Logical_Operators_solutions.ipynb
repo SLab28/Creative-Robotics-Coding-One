{
  "nbformat": 4,
  "nbformat_minor": 0,
  "metadata": {
    "colab": {
      "provenance": []
    },
    "kernelspec": {
      "name": "python3",
      "display_name": "Python 3"
    },
    "language_info": {
      "name": "python"
    }
  },
  "cells": [
    {
      "cell_type": "markdown",
      "source": [
        "# Logical Operators - Tutorial Exercises"
      ],
      "metadata": {
        "id": "1hlXrpnXLABm"
      }
    },
    {
      "cell_type": "markdown",
      "source": [
        "# Exercise 1: Logical AND\n",
        " Task: Create a function that checks if a number is between 10 and 20 (inclusive).\n",
        "Use logical AND to determine if both conditions are met."
      ],
      "metadata": {
        "id": "AIDx-pxLLOkU"
      }
    },
    {
      "cell_type": "code",
      "source": [
        "def is_between_10_and_20(number):\n",
        "    if number >= 10 and number <= 20:\n",
        "        print(f\"{number} is between 10 and 20\")\n",
        "    else:\n",
        "        print(f\"{number} is not between 10 and 20\")"
      ],
      "metadata": {
        "id": "UQ5YLttVLiA5"
      },
      "execution_count": null,
      "outputs": []
    },
    {
      "cell_type": "code",
      "source": [
        "# Test\n",
        "is_between_10_and_20(15)  # Output: 15 is between 10 and 20\n",
        "is_between_10_and_20(25)  # Output: 25 is not between 10 and 20"
      ],
      "metadata": {
        "id": "2xzSXlPqLjpy"
      },
      "execution_count": null,
      "outputs": []
    },
    {
      "cell_type": "markdown",
      "source": [
        "# Exercise 2: Logical OR\n",
        "Task: Write a function that checks if a given character is a vowel (a, e, i, o, u).\n",
        "Use logical OR to check multiple conditions."
      ],
      "metadata": {
        "id": "o8utGwZNLmGe"
      }
    },
    {
      "cell_type": "code",
      "source": [
        "def is_vowel(character):\n",
        "    if character.lower() == 'a' or character.lower() == 'e' or character.lower() == 'i' or character.lower() == 'o' or character.lower() == 'u':\n",
        "        print(f\"{character} is a vowel\")\n",
        "    else:\n",
        "        print(f\"{character} is not a vowel\")\n",
        "\n",
        "# Test\n",
        "is_vowel('a')  # Output: a is a vowel\n",
        "is_vowel('b')  # Output: b is not a vowel"
      ],
      "metadata": {
        "id": "PZgzqUS4Lple"
      },
      "execution_count": null,
      "outputs": []
    },
    {
      "cell_type": "markdown",
      "source": [
        "# Exercise 3: Logical NOT\n",
        "Task: Write a function that checks if a number is NOT between 5 and 15 (inclusive).\n",
        "Use logical NOT to invert the condition."
      ],
      "metadata": {
        "id": "TIDp-dlKLsQW"
      }
    },
    {
      "cell_type": "code",
      "source": [
        "def is_not_between_5_and_15(number):\n",
        "    if not (number >= 5 and number <= 15):\n",
        "        print(f\"{number} is NOT between 5 and 15\")\n",
        "    else:\n",
        "        print(f\"{number} is between 5 and 15\")\n",
        "\n",
        "# Test\n",
        "is_not_between_5_and_15(3)  # Output: 3 is NOT between 5 and 15\n",
        "is_not_between_5_and_15(10)  # Output: 10 is between 5 and 15"
      ],
      "metadata": {
        "id": "vGdsxYyFLwtH"
      },
      "execution_count": null,
      "outputs": []
    },
    {
      "cell_type": "markdown",
      "source": [
        "# Exercise 4: Combining Logical Operators\n",
        "Task: Write a function that checks if a given number is positive and even, or if it is negative and odd.\n",
        "Use logical AND and OR to combine the conditions."
      ],
      "metadata": {
        "id": "ytPC4s7LLzoR"
      }
    },
    {
      "cell_type": "code",
      "source": [
        "def check_number_type(number):\n",
        "    if (number > 0 and number % 2 == 0) or (number < 0 and number % 2 != 0):\n",
        "        print(f\"{number} meets the condition\")\n",
        "    else:\n",
        "        print(f\"{number} does not meet the condition\")\n",
        "\n",
        "# Test\n",
        "check_number_type(8)    # Output: 8 meets the condition\n",
        "check_number_type(-5)   # Output: -5 meets the condition\n",
        "check_number_type(-4)   # Output: -4 does not meet the condition"
      ],
      "metadata": {
        "id": "6akGkfjFL3y4"
      },
      "execution_count": null,
      "outputs": []
    },
    {
      "cell_type": "markdown",
      "source": [
        "# Exercise 5: Logical Operators in Password Validation\n",
        " Task: Write a function that checks if a password meets the following criteria:\n",
        " - At least 8 characters long\n",
        " - Contains at least one uppercase letter\n",
        " - Contains at least one number"
      ],
      "metadata": {
        "id": "7aeMkqOCL6ac"
      }
    },
    {
      "cell_type": "code",
      "execution_count": null,
      "metadata": {
        "id": "g_o-tJFKK9_6"
      },
      "outputs": [],
      "source": [
        "def is_valid_password(password):\n",
        "    has_upper = any(char.isupper() for char in password)\n",
        "    has_digit = any(char.isdigit() for char in password)\n",
        "    if len(password) >= 8 and has_upper and has_digit:\n",
        "        print(\"Password is valid\")\n",
        "    else:\n",
        "        print(\"Password is not valid\")\n",
        "\n",
        "# Test\n",
        "is_valid_password(\"Password1\")  # Output: Password is valid\n",
        "is_valid_password(\"password\")   # Output: Password is not valid\n",
        "is_valid_password(\"Pass\")       # Output: Password is not valid"
      ]
    }
  ]
}